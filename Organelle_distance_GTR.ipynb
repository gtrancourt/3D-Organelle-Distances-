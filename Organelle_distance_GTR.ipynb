{
 "cells": [
  {
   "cell_type": "code",
   "execution_count": 24,
   "id": "shaped-aside",
   "metadata": {},
   "outputs": [],
   "source": [
    "import numpy as np\n",
    "from pandas import DataFrame\n",
    "import skimage.io as io\n",
    "from skimage.transform import resize\n",
    "from skimage.measure import label, regionprops, marching_cubes_lewiner, mesh_surface_area\n",
    "from skimage.draw import ellipse\n",
    "from skimage import img_as_ubyte, img_as_bool\n",
    "from scipy.ndimage.morphology import binary_erosion\n",
    "from skimage.util import invert\n",
    "from tqdm.notebook import tqdm\n",
    "import joblib\n",
    "import time\n",
    "import os\n",
    "import glob\n",
    "import skfmm\n",
    "\n",
    "def Erosion3DimJ(input_img):\n",
    "    tmp = np.zeros(input_img.shape, dtype=np.bool)\n",
    "    for i in range(input_img.shape[0]):\n",
    "        tmp[i, :, :] = binary_erosion(input_img[i, :, :])\n",
    "    return tmp\n",
    "\n",
    "# Find the 3D bounding box\n",
    "def bbox2_3D(img, value):\n",
    "    # From https://stackoverflow.com/questions/31400769/bounding-box-of-numpy-array\n",
    "    z = np.any(img == value, axis=(1, 2))\n",
    "    c = np.any(img == value, axis=(0, 2))\n",
    "    r = np.any(img == value, axis=(0, 1))\n",
    "    zmin, zmax = np.where(z)[0][[0, -1]]\n",
    "    cmin, cmax = np.where(c)[0][[0, -1]]\n",
    "    rmin, rmax = np.where(r)[0][[0, -1]]\n",
    "    return rmin, rmax, cmin, cmax, zmin, zmax\n",
    "\n",
    "def Threshold(input_img, Th_value):\n",
    "    tmp = np.zeros(input_img.shape, dtype=np.bool)\n",
    "    if isinstance(Th_value, int):\n",
    "        tmp[input_img == Th_value] = 1\n",
    "    else:\n",
    "        if isinstance(Th_value, float):\n",
    "            tmp[input_img > 0. & input_img < 1.] = 1\n",
    "        else:\n",
    "            for th_val in range(len(Th_value)):\n",
    "                tmp[input_img == Th_value[th_val]] = 1\n",
    "    return tmp\n",
    "\n",
    "# Define some parameters/variables\n",
    "CHL = 3\n",
    "MIT = 4\n",
    "VAC = 2\n",
    "CELL = 1\n",
    "AIR = 5\n",
    "ADJ = 6\n",
    "\n",
    "# Voxel shape\n",
    "voxel_dims = [0.05,0.02,0.02] #um\n",
    "voxel_ratio = voxel_dims[0]/voxel_dims[1]\n",
    "voxel_iso_dims = [0.05,0.05,0.05] #um"
   ]
  },
  {
   "cell_type": "code",
   "execution_count": 8,
   "id": "clean-gallery",
   "metadata": {},
   "outputs": [
    {
     "name": "stdout",
     "output_type": "stream",
     "text": [
      "[0 2 3 4 5 6]\n",
      "(551, 804, 824)\n"
     ]
    },
    {
     "name": "stderr",
     "output_type": "stream",
     "text": [
      "/home/guillaume/miniconda3/envs/3D-random-walker/lib/python3.8/site-packages/skimage/io/_plugins/matplotlib_plugin.py:150: UserWarning: Low image data range; displaying image with stretched contrast.\n",
      "  lo, hi, cmap = _get_display_range(image)\n"
     ]
    },
    {
     "data": {
      "text/plain": [
       "<matplotlib.image.AxesImage at 0x7ff7ccf70ac0>"
      ]
     },
     "execution_count": 8,
     "metadata": {},
     "output_type": "execute_result"
    },
    {
     "data": {
      "image/png": "[encoded data removed]",
      "text/plain": [
       "<Figure size 432x288 with 2 Axes>"
      ]
     },
     "metadata": {
      "needs_background": "light"
     },
     "output_type": "display_data"
    }
   ],
   "source": [
    "# Load image\n",
    "cell_img = img_as_ubyte(io.imread('/home/guillaume/Downloads/RHarwood-cell/D2C2/D2C2_merged-cropped.tif'))\n",
    "print(np.unique(cell_img))\n",
    "print(cell_img.shape)\n",
    "io.imshow(cell_img[200])"
   ]
  },
  {
   "cell_type": "code",
   "execution_count": 14,
   "id": "magnetic-andorra",
   "metadata": {},
   "outputs": [
    {
     "name": "stdout",
     "output_type": "stream",
     "text": [
      "Current anisotropic shape: (551, 804, 824)\n",
      "New isotropic shape:  (1377, 804, 824)\n"
     ]
    }
   ],
   "source": [
    "# Create isotropic image\n",
    "print('Current anisotropic shape:', cell_img.shape)\n",
    "print('New isotropic shape: ',(int(cell_img.shape[0]*voxel_ratio), cell_img.shape[1], cell_img.shape[2]))\n",
    "cell_iso = np.zeros((int(cell_img.shape[0]*voxel_ratio), cell_img.shape[1], cell_img.shape[2]), dtype='uint8')\n",
    "\n",
    "# Resize cropped image to have isotropic voxels\n",
    "for i in range(cell_img.shape[1]):\n",
    "    cell_iso[:,i,:] = resize(cell_img[:,i,:], output_shape=(int(cell_img.shape[0]*voxel_ratio), cell_img.shape[2]),\n",
    "                             anti_aliasing=False, preserve_range=True, order=0)\n"
   ]
  },
  {
   "cell_type": "code",
   "execution_count": 21,
   "id": "married-democracy",
   "metadata": {},
   "outputs": [
    {
     "name": "stderr",
     "output_type": "stream",
     "text": [
      "/home/guillaume/miniconda3/envs/3D-random-walker/lib/python3.8/site-packages/skimage/io/_plugins/matplotlib_plugin.py:150: UserWarning: Low image data range; displaying image with stretched contrast.\n",
      "  lo, hi, cmap = _get_display_range(image)\n"
     ]
    },
    {
     "data": {
      "text/plain": [
       "<matplotlib.image.AxesImage at 0x7ff7cc3da1f0>"
      ]
     },
     "execution_count": 21,
     "metadata": {},
     "output_type": "execute_result"
    },
    {
     "data": {
      "image/png": "[encoded data removed]",
      "text/plain": [
       "<Figure size 432x288 with 2 Axes>"
      ]
     },
     "metadata": {
      "needs_background": "light"
     },
     "output_type": "display_data"
    }
   ],
   "source": [
    "io.imshow(cell_iso[200])"
   ]
  },
  {
   "cell_type": "code",
   "execution_count": 15,
   "id": "republican-cuisine",
   "metadata": {},
   "outputs": [
    {
     "name": "stdout",
     "output_type": "stream",
     "text": [
      "(389894, 3)\n"
     ]
    }
   ],
   "source": [
    "## Extract the stacks for the surface to compute\n",
    "# Mitochondria\n",
    "mito_stack = (cell_iso == MIT)\n",
    "mito_erosion = Erosion3DimJ(cell_iso == MIT)\n",
    "mito_edge = mito_stack ^ mito_erosion\n",
    "mito_pos = np.argwhere(mito_edge)\n",
    "del mito_erosion\n",
    "print(mito_pos.shape)\n",
    "\n",
    "# Chloroplasts\n",
    "chl_stack = (cell_iso == CHL)\n",
    "\n",
    "# All CW\n",
    "all_cw_stack = Threshold(cell_iso, (AIR, ADJ))\n",
    "io.imshow(all_cw_stack[200])"
   ]
  },
  {
   "cell_type": "code",
   "execution_count": 20,
   "id": "efficient-result",
   "metadata": {},
   "outputs": [
    {
     "data": {
      "text/plain": [
       "<matplotlib.image.AxesImage at 0x7ff7cc48a490>"
      ]
     },
     "execution_count": 20,
     "metadata": {},
     "output_type": "execute_result"
    },
    {
     "data": {
      "image/png": "[encoded data removed]",
      "text/plain": [
       "<Figure size 432x288 with 1 Axes>"
      ]
     },
     "metadata": {
      "needs_background": "light"
     },
     "output_type": "display_data"
    }
   ],
   "source": [
    "# Create masked array\n",
    "air_masked_array = np.ma.masked_array(invert(all_cw_stack), (chl_stack + mito_stack))\n",
    "io.imshow(air_masked_array[200])"
   ]
  },
  {
   "cell_type": "code",
   "execution_count": null,
   "id": "friendly-possibility",
   "metadata": {},
   "outputs": [],
   "source": [
    "# compute distance\n",
    "D_geo = skfmm.distance(air_masked_array, dx=voxel_iso_dims)"
   ]
  },
  {
   "cell_type": "code",
   "execution_count": 5,
   "id": "standing-decision",
   "metadata": {},
   "outputs": [],
   "source": [
    "###############################################################################\n",
    "L_geo_edge_air_mit = np.asarray(D_geo_from_air[(mito_edge == True)])"
   ]
  },
  {
   "cell_type": "code",
   "execution_count": null,
   "id": "worse-defendant",
   "metadata": {},
   "outputs": [],
   "source": [
    "# Find the mitochondrial surface\n",
    "\n",
    "\n"
   ]
  }
 ],
 "metadata": {
  "kernelspec": {
   "display_name": "Python 3",
   "language": "python",
   "name": "python3"
  },
  "language_info": {
   "codemirror_mode": {
    "name": "ipython",
    "version": 3
   },
   "file_extension": ".py",
   "mimetype": "text/x-python",
   "name": "python",
   "nbconvert_exporter": "python",
   "pygments_lexer": "ipython3",
   "version": "3.8.8"
  }
 },
 "nbformat": 4,
 "nbformat_minor": 5
}
